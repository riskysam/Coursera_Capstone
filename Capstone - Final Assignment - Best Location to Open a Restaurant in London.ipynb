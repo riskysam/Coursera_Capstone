{
 "cells": [
  {
   "cell_type": "markdown",
   "metadata": {},
   "source": [
    "# Best Location to Open a Restaurant in London"
   ]
  },
  {
   "cell_type": "markdown",
   "metadata": {},
   "source": [
    "## 1 Introduction"
   ]
  },
  {
   "cell_type": "markdown",
   "metadata": {},
   "source": [
    "#### London Restaurant Business"
   ]
  },
  {
   "cell_type": "markdown",
   "metadata": {},
   "source": [
    "London's restaurant industry started at around the end of the 18th century, where Londoners would eat out at inns and taverns from where the restaurant industry initially started. Some of these establishments still exist today, such as the Wiltons which opened in 1742 selling mainly seafood in Haymarket. At around the 1860s the cuisine styles being served began to vary as the UK became more industrialised. In 1867 a former chef to Napoleon III opened a French restaurant in London. Ever since, the UK's trade with the commonwealth and the rest of the world resulted in Londoners being treated to many different cuisines and experiences. Trends in migration to the UK only increased the quantity and variety of restaurants in the capital until today it is awash with restaurants from every part of the globe and Londoners frequently make it part of their routine to sample many different kinds of foods."
   ]
  },
  {
   "cell_type": "markdown",
   "metadata": {},
   "source": [
    "#### London Restaurant Trends"
   ]
  },
  {
   "cell_type": "markdown",
   "metadata": {},
   "source": [
    "Neglecting the short-term impacts from COVID-19, the restaurant business in London has been growing at a good rate over the past 30 years. The number of restaurants now number almost 20,000, however there have been and continue to be significant changes to the makeup of restaurants in the capital. In more recent times these seem to be mainly driven by demographic and technological changes.\n",
    "\n",
    "Millennials are a big driver in change in the restaurant business. They tend to value individuality, uniqueness and adventure. They are also less loyal and more likely to follow the crowd to the latest opening for the social media kudos. Millennials are generally considered to have been born between 1981 and 1996 and so in 2020, are aged between 24 and 39. For this generation dining out is an experience to share with friends and meet new people. They choose restaurants for the atmosphere and enjoy to engage with the creativity and character of the restaurant. As more and more of these millennials become parents, the trend for kid friendly dining experiences is set to increase. This generation has grown up eating out more often than their parents and will take their children out with them and will expect more than the standard and typical children’s menu of yesteryear. Importantly health and sustainability are becoming increasingly important factors in the industry as society shifts its focus onto these important global scale problems. It is expected that regenerative agriculture, organic sourcing of ingredients, more vegan and vegetarian options and awareness of reducing food waste will become important to restaurant goers and they are prepared to pay more for these options. \n",
    "\n",
    "The relevance of the above to this assignment is just to highlight that many of the factors that made a restaurant successful in the past are not likely to be the same as those that make a restaurant successful in the future. Using machine learning techniques such as regression analysis that looks at past data to discover relationships from the data have to be done so carefully or else you will get a successful restaurant of the past, which may not be successful in the future."
   ]
  },
  {
   "cell_type": "markdown",
   "metadata": {},
   "source": [
    "#### Restaurant Business Problem"
   ]
  },
  {
   "cell_type": "markdown",
   "metadata": {},
   "source": [
    "The business problem I have decided to solve is to determine the best location to open a vegan or vegetarian restaurant in London. It is expected that this type of restaurant will mainly appeal to the millennial generation, although there is a growing trend within the older generations to be more sustainable and healthy as well. I will use a variety of data sources to try and select suitable locations that well suit the millennial generation. \n",
    "\n",
    "The restaurant business is incredibly competitive in London, just serving good food is rarely enough these days to avoid failure. Nowsourcing estimates that almost 60% of independent restaurants fail within 3 years. Some of the main factors for failures are as follows according to The Career Cafe:\n",
    "\n",
    "1. High concentration of restaurants in a given locality and saturated market.\n",
    "+ Owners skilled at cooking but not at business.\n",
    "+ Owners inability to raise capital.\n",
    "+ Owners inability to conduct proper marketing.\n",
    "+ Locating a restaurant in the wrong demographic or where there isn't enough foot-fall.\n",
    "+ Owners having to work too many hours and having not the quality of life they originally planned for.\n",
    "+ Not providing a full customer experience that appeals to all the senses.\n",
    "+ Lack of differentiation in brand concept with other nearby restaurants.\n",
    "+ Paying too high a rent for the revenues that could be reasonably achieved.\n",
    "\n",
    "Given that the business problem to solve is strictly around selecting an appropriate location, only the following from the above factors are relevant: 1) A high concentration of restaurants in a given locality. 2) Locating a restaurant which is in the wrong demographic. 3) Locating a restaurant where there isn't enough foot fall. 4) Lacking differentiation in the brand concept with other restaurants in vicinity. 5) Paying too high a rent.\n",
    "\n",
    "As well as avoiding common reasons for failure a restaurant should make the most of the following factors that can affect how much revenue a restaurant can make according to RestoHub:\n",
    "\n",
    "1. Having excellent transport links.\n",
    "+ Being in a location where your target market make a good income.\n",
    "+ Being in a location where there are many complementary businesses for restaurants, such as; Shops, bars and theatres.\n"
   ]
  },
  {
   "cell_type": "markdown",
   "metadata": {},
   "source": [
    "#### Restaurant Stakeholders\n"
   ]
  },
  {
   "cell_type": "markdown",
   "metadata": {},
   "source": [
    "The target audience for this work are for individuals looking to open a vegan or vegetarian restaurant or companies that provide financing to this segment of the restaurant industry. This work will provide the above groups important data backed decisions about where a suitable location may be. Given the failure rates within the industry and that location is a key consideration in having a successful restaurant business, the above information will give the individuals a good sense if a prospective location is going to help or hinder the future restaurant. \n",
    "\n",
    "Given that London is such a large city and with such variety, conducting any type of manual exercise would be too much effort and take up too much time. Furthermore, using individuals who may be well experienced in the restaurant business may not lead to a positive outcome given the amount of change that is currently going on. This is more so given the target demographic group and macro-economic trends that are taking place."
   ]
  },
  {
   "cell_type": "markdown",
   "metadata": {},
   "source": [
    "## 2 Data"
   ]
  },
  {
   "cell_type": "markdown",
   "metadata": {},
   "source": [
    "#### Filtering Down the Data"
   ]
  },
  {
   "cell_type": "markdown",
   "metadata": {},
   "source": [
    "The previous section suggests that 8 different criteria may be significant in selecting the most appropriate location for your restaurant. Given the scope, intent and the lack of any financial budget for this study, it is felt that it is not appropriate to conduct a study on so many different variables. Therefore, given the information that is available in the public domain and what criteria I consider to be the most impactful, I have reduced the above list to the following factors that will be evaluated by obtaining data from various sources, including the FourSquare website.\n",
    "\n",
    "1. Having excellent transport links.\n",
    "+ Having a high concentration of restaurants nearby, particularly if they are of a similar type.\n",
    "+ Being in a location where there are many complementary businesses.\n",
    "+ Local population density.\n",
    "\n",
    "I did not select the other criteria for the following reasons:\n",
    "\n",
    "1. Locating a restaurant that is in the wrong demographic was not selected in my final list since I could not find accurate information on this from a free data set. Also, selecting the right demographic area is actually very complicated, since millennials will tend to live in one area and work in another and go recreate in perhaps an entirely different one.\n",
    "\n",
    "2. Locating a restaurant with enough footfall was simplified by estimating the population density in the vicinity of proposed restaurant locations. Foursquare analytics do provide detailed footfall information in London but this is not a free service. \n",
    "\n",
    "3. Lacking brand differentiation was simplified to just evaluating if there are restaurants in the vicinity that were of the same type. Clearly, there is more to brand differentiation to just this, but it would not be practical to try and put together the data that this would entail given how time consuming this would be.\n",
    "\n",
    "4. Rental information and local income information was not selected since all the free data sets that I could find on this were at the borough level and not at sufficient granularity so as to actually be useful. In other words, I could not really calculate what the rent would be at a given location, nor what the average income would be in the vicinity of that location of my target market. In many ways this information may work to cancel themselves out since in London, typically where you have a high rent you would also have a local population with a good income. \n",
    "\n",
    "Given the above inaccuracies, it would be recommended that the locations which are selected by this evaluation are studied further to determine the impacts of the above factors and ensure a suitable location is selected against all the important criteria. \n",
    "\n"
   ]
  },
  {
   "cell_type": "markdown",
   "metadata": {},
   "source": [
    "#### Data Sources"
   ]
  },
  {
   "cell_type": "markdown",
   "metadata": {},
   "source": [
    "For the final four criteria I have selected, the required data for them  will be sourced as follows:\n",
    "\n",
    "1. Excellent Transport Links: In this work excellent transport links shall mean how close the restaurant is to London underground and train stations and major roads. For London underground and train information I have sourced a dataset From Transport for London which has the latitude and longitude for each underground and train station. For major road information I have sourced a dataset from the Consumer Data Research Centre that has traffic counts at many key locations in London. These come in the form of 2 different CSV files that I will have to merge and wrangle in order to have the data in the required format.\n",
    "\n",
    "2. Concentration of Restaurants in Vicinity: For this information, data from the FourSquare API shall be called. Latitudes and Longitudes will be provided and these will be plotted with various radii, the closer a prospective restaurant is to one or more restaurants the less the algorithm will select this location.\n",
    "\n",
    "3. Concentration of Complementary Businesses in Vicinity: For this information, data from the FourSquare API shall be called from. Latitudes and Longitudes will be provided and these will be plotted with various radii, the closer a prospective restaurant is to one or more restaurants the more the algorithm will select this location.\n",
    "\n",
    "4. Local Population Density: for this information I have used a dataset from the UK's ONS that provides population information for each borough in London. I will have to translate this information into one that would be compatible with a map, this will mean I will need to add a JSON or XML file into folium (or other software library) which will translate the borough boundaries into something that can be used with the dataframe containing the information set as detailed above.\n",
    "\n",
    "Clearly, in order to more accurately select good locations for the prospective restaurant it would be important to understand the relative importance of the above factors to determine which factors have more effect on success than others. Furthermore, it would be important to understand the relative strength of values for each criteria. For example, how the proximity to good transport links and complementary businesses alters with increasing distance. In other words, if a train station was 10 minutes walk away at one location and 20 minutes away from another location, how much better would this be for the closer restaurant? Ideally, I would have liked to use a machine learning technique such a regression analysis to help select the weightings on these criteria, however I would need a value that would accurately gauge how successful a restaurant was and I would need a data set to train and then test the algorithm. However, finding such a dependant variable is not straight forward and then finding an accurate dataset for said variable would be even more challenging. As mentioned earlier it is considered useful for an actual study for real stakeholders that detailed foot-fall information is purchased over a recent historical period and then use this as a dependant variable."
   ]
  },
  {
   "cell_type": "code",
   "execution_count": null,
   "metadata": {},
   "outputs": [],
   "source": []
  }
 ],
 "metadata": {
  "kernelspec": {
   "display_name": "Python 3",
   "language": "python",
   "name": "python3"
  },
  "language_info": {
   "codemirror_mode": {
    "name": "ipython",
    "version": 3
   },
   "file_extension": ".py",
   "mimetype": "text/x-python",
   "name": "python",
   "nbconvert_exporter": "python",
   "pygments_lexer": "ipython3",
   "version": "3.7.6"
  }
 },
 "nbformat": 4,
 "nbformat_minor": 4
}
